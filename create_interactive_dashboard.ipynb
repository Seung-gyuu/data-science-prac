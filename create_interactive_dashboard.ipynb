{
  "nbformat": 4,
  "nbformat_minor": 0,
  "metadata": {
    "colab": {
      "provenance": [],
      "authorship_tag": "ABX9TyNwdDSLBVvbDZCAljHglh8o",
      "include_colab_link": true
    },
    "kernelspec": {
      "name": "python3",
      "display_name": "Python 3"
    },
    "language_info": {
      "name": "python"
    }
  },
  "cells": [
    {
      "cell_type": "markdown",
      "metadata": {
        "id": "view-in-github",
        "colab_type": "text"
      },
      "source": [
        "<a href=\"https://colab.research.google.com/github/Seung-gyuu/data-science-prac/blob/main/create_interactive_dashboard.ipynb\" target=\"_parent\"><img src=\"https://colab.research.google.com/assets/colab-badge.svg\" alt=\"Open In Colab\"/></a>"
      ]
    },
    {
      "cell_type": "code",
      "execution_count": 4,
      "metadata": {
        "id": "J2Jl4BV7mUeI"
      },
      "outputs": [],
      "source": [
        "# Import required libraries\n",
        "import pandas as pd\n",
        "import plotly.graph_objects as go\n",
        "import plotly.express as px\n",
        "import dash\n",
        "from dash import dcc\n",
        "from dash import html\n",
        "from dash.dependencies import Input, Output\n",
        "# Read the airline data into pandas dataframe\n",
        "airline_data =  pd.read_csv('https://cf-courses-data.s3.us.cloud-object-storage.appdomain.cloud/IBMDeveloperSkillsNetwork-DV0101EN-SkillsNetwork/Data%20Files/airline_data.csv',\n",
        "                            encoding = \"ISO-8859-1\",\n",
        "                            dtype={'Div1Airport': str, 'Div1TailNum': str,\n",
        "                                   'Div2Airport': str, 'Div2TailNum': str})\n",
        ""
      ]
    },
    {
      "cell_type": "code",
      "source": [
        "# Create a dash application\n",
        "app = dash.Dash(__name__)\n",
        "\n",
        "app.layout = html.Div(children=[html.H1('Airline Performance Dashboard',style={'textAlign': 'center', 'color': '#503D36', 'font-size': 40}),\n",
        "                                html.Div([\"Input Year: \", dcc.Input(id='input-year', value='2010', type='number', style ={\"height\":\"50px\", 'font-size':25}),],\n",
        "                                style={'font-size': 40}),\n",
        "                                html.Br(),\n",
        "                                html.Br(),\n",
        "                                html.Div([\n",
        "                                    dcc.Graph(id=\"line-plot\"),\n",
        "                                    dcc.Graph(id=\"bar-plot\")\n",
        "                                    ],\n",
        "                                    style={'display': 'flex', 'justifyContent': 'space-around'})\n",
        "                                ])\n",
        "\n",
        "# add callback\n",
        "@app.callback([Output(component_id =\"line-plot\", component_property = 'figure'),\n",
        "              Output(component_id =\"bar-plot\", component_property =\"figure\")],\n",
        "              Input(component_id = \"input-year\",component_property = 'value' ))\n",
        "\n",
        "def get_graph(entered_year):\n",
        "    df= airline_data[airline_data['Year']==int(entered_year)]\n",
        "\n",
        "    line_data = df.groupby('Month')['ArrDelay'].mean().reset_index()\n",
        "    bar_data = df.groupby('DestState')['Flights'].sum().reset_index()\n",
        "\n",
        "    fig=go.Figure(data=go.Scatter(x=line_data['Month'], y=line_data['ArrDelay'], mode=\"lines\", marker=dict(color='green')))\n",
        "    fig.update_layout(xaxis_title=\"Month\", yaxis_title = \"ArrDelay\", title = \"Month vs Average Flight Delay Time\")\n",
        "\n",
        "    fig1 = px.bar(bar_data, x=\"DestState\", y = \"Flights\", title =\"Total number of flights to the destination state split by reporting air\" )\n",
        "    fig1.update_layout(title=\"Flights to Destination State\", xaxis_title ='DestState', yaxis_title=\"Flights\")\n",
        "\n",
        "    return fig ,fig1\n",
        "\n",
        "\n",
        "# Run the app\n",
        "if __name__ == '__main__':\n",
        "    app.run()"
      ],
      "metadata": {
        "colab": {
          "base_uri": "https://localhost:8080/",
          "height": 670
        },
        "id": "_SG4xlwImZTw",
        "outputId": "c2437d84-17ab-499e-8494-14df6570ef78"
      },
      "execution_count": 5,
      "outputs": [
        {
          "output_type": "display_data",
          "data": {
            "text/plain": [
              "<IPython.core.display.Javascript object>"
            ],
            "application/javascript": [
              "(async (port, path, width, height, cache, element) => {\n",
              "    if (!google.colab.kernel.accessAllowed && !cache) {\n",
              "      return;\n",
              "    }\n",
              "    element.appendChild(document.createTextNode(''));\n",
              "    const url = await google.colab.kernel.proxyPort(port, {cache});\n",
              "    const iframe = document.createElement('iframe');\n",
              "    iframe.src = new URL(path, url).toString();\n",
              "    iframe.height = height;\n",
              "    iframe.width = width;\n",
              "    iframe.style.border = 0;\n",
              "    iframe.allow = [\n",
              "        'accelerometer',\n",
              "        'autoplay',\n",
              "        'camera',\n",
              "        'clipboard-read',\n",
              "        'clipboard-write',\n",
              "        'gyroscope',\n",
              "        'magnetometer',\n",
              "        'microphone',\n",
              "        'serial',\n",
              "        'usb',\n",
              "        'xr-spatial-tracking',\n",
              "    ].join('; ');\n",
              "    element.appendChild(iframe);\n",
              "  })(8050, \"/\", \"100%\", 650, false, window.element)"
            ]
          },
          "metadata": {}
        }
      ]
    },
    {
      "cell_type": "code",
      "source": [],
      "metadata": {
        "id": "SasnSskFmy8w"
      },
      "execution_count": null,
      "outputs": []
    }
  ]
}